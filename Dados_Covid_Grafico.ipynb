{
  "nbformat": 4,
  "nbformat_minor": 0,
  "metadata": {
    "colab": {
      "name": "Dados Covid Grafico.ipynb",
      "provenance": [],
      "authorship_tag": "ABX9TyOuqWM4T3VWsdU7Tg5kCInl",
      "include_colab_link": true
    },
    "kernelspec": {
      "name": "python3",
      "display_name": "Python 3"
    }
  },
  "cells": [
    {
      "cell_type": "markdown",
      "metadata": {
        "id": "view-in-github",
        "colab_type": "text"
      },
      "source": [
        "<a href=\"https://colab.research.google.com/github/Iago-pixel/graficocovidvacinasbrasil/blob/main/Dados_Covid_Grafico.ipynb\" target=\"_parent\"><img src=\"https://colab.research.google.com/assets/colab-badge.svg\" alt=\"Open In Colab\"/></a>"
      ]
    },
    {
      "cell_type": "code",
      "metadata": {
        "id": "PJg3L7FP1deB",
        "colab": {
          "base_uri": "https://localhost:8080/",
          "height": 279
        },
        "outputId": "7fdc8ca7-b2d2-4206-fca0-d1fda92fd252"
      },
      "source": [
        "!pip install -q matplotlib\r\n",
        "from matplotlib import pyplot as plt\r\n",
        "import csv\r\n",
        "\r\n",
        "def obter_dados():\r\n",
        "    with open('country_vaccinations.csv') as f:\r\n",
        "        return [dict(dado_vacina) for dado_vacina in csv.DictReader(f)]\r\n",
        "\r\n",
        "def dado_brasil(dados_mundo):\r\n",
        "  new_dados = []\r\n",
        "  for i in dados_mundo:\r\n",
        "    if i['country'] == 'Brazil':\r\n",
        "      new_dados.append(i)\r\n",
        "  #print(new_dados)\r\n",
        "  return new_dados\r\n",
        "\r\n",
        "def corrigir_dados_datas(lista_de_dados): #ano-mês-dia -> dia/mês (ano sempre é 2021 no caso observado)\r\n",
        "  for dado in lista_de_dados:\r\n",
        "    temp_lista = dado['date'].split('-')\r\n",
        "    temp_lista.reverse()\r\n",
        "    temp_lista.pop()\r\n",
        "    dado['date'] = '/'.join(temp_lista)\r\n",
        "  return lista_de_dados\r\n",
        "\r\n",
        "def pegar_dados_de_dicionarios(lista_de_dados, posicao): #pega alguns valores de um determinado campo\r\n",
        "  valores = []\r\n",
        "  for i in range(0,len(lista_de_dados),5):\r\n",
        "    valores.append(lista_de_dados[i][posicao])\r\n",
        "  return valores\r\n",
        "\r\n",
        "dados_vacina = obter_dados()\r\n",
        "\r\n",
        "dados_brasil = dado_brasil(dados_vacina)\r\n",
        "\r\n",
        "dados_brasil = corrigir_dados_datas(dados_brasil)\r\n",
        "\r\n",
        "\r\n",
        "datas = pegar_dados_de_dicionarios(dados_brasil, 'date')\r\n",
        "vacinados = pegar_dados_de_dicionarios(dados_brasil, 'people_vaccinated')\r\n",
        "\r\n",
        "plt.xlabel('Datas (2021)')\r\n",
        "plt.ylabel('Quantidade absoluta de vacinas no Brasil')\r\n",
        "plt.bar(datas, vacinados)\r\n",
        "\r\n",
        "plt.savefig('vacinados_por_data.png',bbox_inches='tight')"
      ],
      "execution_count": null,
      "outputs": [
        {
          "output_type": "display_data",
          "data": {
            "image/png": "[encoded data removed]",
            "text/plain": [
              "<Figure size 432x288 with 1 Axes>"
            ]
          },
          "metadata": {
            "tags": [],
            "needs_background": "light"
          }
        }
      ]
    }
  ]
}